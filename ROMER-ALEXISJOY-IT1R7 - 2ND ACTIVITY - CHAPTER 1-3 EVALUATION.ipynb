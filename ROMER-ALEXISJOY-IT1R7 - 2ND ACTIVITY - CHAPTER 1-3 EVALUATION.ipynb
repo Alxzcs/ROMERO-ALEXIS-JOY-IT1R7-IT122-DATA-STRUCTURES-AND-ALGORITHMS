{
 "cells": [
  {
   "cell_type": "code",
   "execution_count": 1,
   "id": "sunset-laundry",
   "metadata": {},
   "outputs": [
    {
     "name": "stdout",
     "output_type": "stream",
     "text": [
      "Discuss your learnings on Chapter 1  time-frame 8:00 - 30:35. Minimum of 200 characters\n",
      "I. My chapter 1 learnings are:\n",
      "\n",
      "\n",
      "Understanding the meaning and importance of Data structures and Algorithms. By studying Data structures and algorithms, it thought me that i can deal with different ways of arranging, processing and storing data. Data structure and Algorithm provide a set of techniques to the programmer to handle the data efficiently. They can write the code in any programming language with minimal effort\n",
      "I've also learned that there is an interface and implementation in every data structure. Interface is the set of operations supported by a data structure. An interface provides only the list of operations supported, the type of parameters that are acceptable and the return type. Meanwhile, Interior representation of data structure is provided by implementation. Implementation also defines the algorithms used in data structure operations\n",
      "\n",
      "\n",
      "In addition, I’ve learned about the rules of writing algorithms are not well defined. Instead, the problem is dependent on resources. Never have algorithms written to support a specific code of programming. As we are aware, every language programmer has basic constructs such as loops, flow control, etc. Those common builds can be used to write an algorithm.\n",
      "Lastly, I’ve learned about the algorithm complexity. First is we have time complexity. By definition, time complexity is the amount of time that an algorithm takes to run depending on the input length. The amount of operations performed by the algorithm is indicated here by the length of the input. This shows clearly what exactly the complexity of time tells us. Second is the space complexity. The space complexity of an algorithm or a computer program is the amount of memory space required to solve an instance of the computational problem as a function of characteristics of the input. It is the memory required by an algorithm until it executes completely.\n"
     ]
    }
   ],
   "source": [
    "print(\"Discuss your learnings on Chapter 1  time-frame 8:00 - 30:35. Minimum of 200 characters\")\n",
    "print(\"I. My chapter 1 learnings are:\")\n",
    "print(\"\\n\")\n",
    "print(\"Understanding the meaning and importance of Data structures and Algorithms. By studying Data structures and algorithms, it thought me that i can deal with different ways of arranging, processing and storing data. Data structure and Algorithm provide a set of techniques to the programmer to handle the data efficiently. They can write the code in any programming language with minimal effort\")\n",
    "print(\"I've also learned that there is an interface and implementation in every data structure. Interface is the set of operations supported by a data structure. An interface provides only the list of operations supported, the type of parameters that are acceptable and the return type. Meanwhile, Interior representation of data structure is provided by implementation. Implementation also defines the algorithms used in data structure operations\")\n",
    "print(\"\\n\")\n",
    "print(\"In addition, I’ve learned about the rules of writing algorithms are not well defined. Instead, the problem is dependent on resources. Never have algorithms written to support a specific code of programming. As we are aware, every language programmer has basic constructs such as loops, flow control, etc. Those common builds can be used to write an algorithm.\")\n",
    "\n",
    "print(\"Lastly, I’ve learned about the algorithm complexity. First is we have time complexity. By definition, time complexity is the amount of time that an algorithm takes to run depending on the input length. The amount of operations performed by the algorithm is indicated here by the length of the input. This shows clearly what exactly the complexity of time tells us. Second is the space complexity. The space complexity of an algorithm or a computer program is the amount of memory space required to solve an instance of the computational problem as a function of characteristics of the input. It is the memory required by an algorithm until it executes completely.\")\n"
   ]
  },
  {
   "cell_type": "code",
   "execution_count": 2,
   "id": "collect-invitation",
   "metadata": {},
   "outputs": [
    {
     "name": "stdout",
     "output_type": "stream",
     "text": [
      "Discuss your learnings on Chapter 1  time-frame 35:00 - end. Minimum of 200 characters\n",
      "II. My chapter 2 learnings are:\n",
      "\n",
      "\n",
      "Knowing the Data Definition such as: Atomic, its definition should define a single concept. Traceable, its definition should be able to be mapped to some data element. Accurate, its definition should be unambiguous. Lastly, clear and concise, its definition should be understandable. Next is the data object, it is a storage region containing a value or value group. You can use the identifier or a more complex phrase that refers to the object to access each value. Each object also has a unique type of data. Also called objects are the individual class members.\n",
      "\n",
      "\n",
      "I’ve also learned about the two data types which is; Built-in Data Type and Derived Data type. First off, I want to elaborate it’s meaning. It is a way of categorizing different data types as integer, string, etc. which determines the values that can be used for the corresponding data type, the type of operation which can be performed on the respective data type. And these are;\n",
      "\n",
      "\n",
      "Built in data type - it is a the data type that support a language that are known as built-in data types. The following integrated data types can, for example, be found in many languages. Like Integers, Boolean (true, false), Floating (Decimal numbers), and Character and Strings.\n",
      "\n",
      "\n",
      "Meanwhile, Derived data types are known as implemented independently, as they can be implemented either way. These types of data are typically constructed by the combination and associated operations of primary or integrated data types. Like for example list, Array, Stack, and Queue.\n"
     ]
    }
   ],
   "source": [
    "print(\"Discuss your learnings on Chapter 1  time-frame 35:00 - end. Minimum of 200 characters\")\n",
    "print(\"II. My chapter 2 learnings are:\")\n",
    "print(\"\\n\")\n",
    "print(\"Knowing the Data Definition such as: Atomic, its definition should define a single concept. Traceable, its definition should be able to be mapped to some data element. Accurate, its definition should be unambiguous. Lastly, clear and concise, its definition should be understandable. Next is the data object, it is a storage region containing a value or value group. You can use the identifier or a more complex phrase that refers to the object to access each value. Each object also has a unique type of data. Also called objects are the individual class members.\")\n",
    "print(\"\\n\")\n",
    "print(\"I’ve also learned about the two data types which is; Built-in Data Type and Derived Data type. First off, I want to elaborate it’s meaning. It is a way of categorizing different data types as integer, string, etc. which determines the values that can be used for the corresponding data type, the type of operation which can be performed on the respective data type. And these are;\")\n",
    "print(\"\\n\")\n",
    "print(\"Built in data type - it is a the data type that support a language that are known as built-in data types. The following integrated data types can, for example, be found in many languages. Like Integers, Boolean (true, false), Floating (Decimal numbers), and Character and Strings.\")\n",
    "print(\"\\n\")\n",
    "print(\"Meanwhile, Derived data types are known as implemented independently, as they can be implemented either way. These types of data are typically constructed by the combination and associated operations of primary or integrated data types. Like for example list, Array, Stack, and Queue.\")\n"
   ]
  },
  {
   "cell_type": "code",
   "execution_count": 3,
   "id": "documented-dylan",
   "metadata": {},
   "outputs": [
    {
     "name": "stdout",
     "output_type": "stream",
     "text": [
      "Discuss your learnings on Chapter 2  time-frame 5:00 - 9:00. Minimum of 200 characters\n",
      "III. My chapter 3 learnings are:\n",
      "\n",
      "\n",
      "Exploring Arrays and its representation: Array, is a data structure which stores the same data type values. This is the main difference among arrays and lists in Python. Whereas the python lists may contain values of different data types, python arrays may contain only values of the same data type.\n",
      "Array representation. An Array is a linear data structure that collects data items with similar types of data stored at contiguous locations. The following is given arrays and their representation. Array Index: An array item's location has an index identifying the element. Also, the index array begins at 0.\n",
      "\n",
      "\n",
      "I’ve also learned about Arrays Basic Operations, and these are; Traverse, it prints all the array elements one by one. Insertion, it adds an element at the given index. Deletion, it deletes an element at the given index. Search, it searches an element using the given index or by the value. And update, it updates an element at the given index.\n",
      "By importing array module to the python program, Array is created in Python. The array will then be declared as from array import *\n",
      "Typecodes, the module defines the following type: class array.array(typecode[, initializer]) A new array whose items are restricted by typecode, and initializes from the optional initializer value, which must be a list, a bytes-like object, or iterable over elements of the appropriate type.\n",
      "\n",
      "\n",
      "Lastly, the use of basic operations are; Insertion operation means one or more elements of data are inserted in an array. A new element at the start, end or any given array index can be added on the basis of the requirement. The deletion Operation means the removal from the array of an existing item and the reorganization of all array elements. A search operation for an array element can be carried out based on its value or index. And lastly, we have update operation which means the update of an existing item on a given index from the array.\n"
     ]
    }
   ],
   "source": [
    "print(\"Discuss your learnings on Chapter 2  time-frame 5:00 - 9:00. Minimum of 200 characters\")\n",
    "print(\"III. My chapter 3 learnings are:\")\n",
    "print(\"\\n\")\n",
    "print(\"Exploring Arrays and its representation: Array, is a data structure which stores the same data type values. This is the main difference among arrays and lists in Python. Whereas the python lists may contain values of different data types, python arrays may contain only values of the same data type.\")\n",
    "print(\"Array representation. An Array is a linear data structure that collects data items with similar types of data stored at contiguous locations. The following is given arrays and their representation. Array Index: An array item's location has an index identifying the element. Also, the index array begins at 0.\")\n",
    "print(\"\\n\")\n",
    "print(\"I’ve also learned about Arrays Basic Operations, and these are; Traverse, it prints all the array elements one by one. Insertion, it adds an element at the given index. Deletion, it deletes an element at the given index. Search, it searches an element using the given index or by the value. And update, it updates an element at the given index.\")\n",
    "print(\"By importing array module to the python program, Array is created in Python. The array will then be declared as from array import *\")\n",
    "print(\"Typecodes, the module defines the following type: class array.array(typecode[, initializer]) A new array whose items are restricted by typecode, and initializes from the optional initializer value, which must be a list, a bytes-like object, or iterable over elements of the appropriate type.\")\n",
    "print(\"\\n\")\n",
    "print(\"Lastly, the use of basic operations are; Insertion operation means one or more elements of data are inserted in an array. A new element at the start, end or any given array index can be added on the basis of the requirement. The deletion Operation means the removal from the array of an existing item and the reorganization of all array elements. A search operation for an array element can be carried out based on its value or index. And lastly, we have update operation which means the update of an existing item on a given index from the array.\")\n"
   ]
  },
  {
   "cell_type": "code",
   "execution_count": 4,
   "id": "artificial-access",
   "metadata": {},
   "outputs": [
    {
     "name": "stdout",
     "output_type": "stream",
     "text": [
      "Answer:\n",
      "18\n",
      "55\n",
      "19\n",
      "20\n",
      "16\n",
      "30\n"
     ]
    }
   ],
   "source": [
    "from array import *\n",
    "print(\"Collection of Age:\")\n",
    "age = array('B',[18, 24, 19, 16, 30, 45])\n",
    "age.insert(3, 20)\n",
    "age.remove(45)\n",
    "age[1] = 55\n",
    "for x in age:\n",
    "    print(x)\n"
   ]
  },
  {
   "cell_type": "code",
   "execution_count": null,
   "id": "worst-sector",
   "metadata": {},
   "outputs": [],
   "source": []
  }
 ],
 "metadata": {
  "kernelspec": {
   "display_name": "Python 3",
   "language": "python",
   "name": "python3"
  },
  "language_info": {
   "codemirror_mode": {
    "name": "ipython",
    "version": 3
   },
   "file_extension": ".py",
   "mimetype": "text/x-python",
   "name": "python",
   "nbconvert_exporter": "python",
   "pygments_lexer": "ipython3",
   "version": "3.9.2"
  }
 },
 "nbformat": 4,
 "nbformat_minor": 5
}
